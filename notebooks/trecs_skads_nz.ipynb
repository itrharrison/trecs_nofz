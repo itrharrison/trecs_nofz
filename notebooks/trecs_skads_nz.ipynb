{
 "cells": [
  {
   "cell_type": "markdown",
   "id": "accde34d",
   "metadata": {},
   "source": [
    "# Comparing SKADS S3-SEX and T-RECS  SFG $n(z)$"
   ]
  },
  {
   "cell_type": "code",
   "execution_count": 1,
   "id": "4649f83e",
   "metadata": {},
   "outputs": [],
   "source": [
    "import numpy as np\n",
    "from astropy.table import Table\n",
    "from astropy import units\n",
    "\n",
    "from matplotlib import pyplot as plt\n",
    "from matplotlib import rc\n",
    "\n",
    "rc('text', usetex=True)\n",
    "rc('font', family='serif')\n",
    "rc('font', size=11)"
   ]
  },
  {
   "cell_type": "markdown",
   "id": "b2472f85",
   "metadata": {},
   "source": [
    "## Read in T-RECS catalogue"
   ]
  },
  {
   "cell_type": "code",
   "execution_count": 2,
   "id": "9d7c7186",
   "metadata": {},
   "outputs": [],
   "source": [
    "cat_trecs = Table.read('../data/VII_282_sfgsdeep.dat.gz.fits')"
   ]
  },
  {
   "cell_type": "code",
   "execution_count": 3,
   "id": "9cd2f842",
   "metadata": {},
   "outputs": [],
   "source": [
    "z_trecs = cat_trecs['z']\n",
    "flux_trecs = cat_trecs['I1000'].to(units.Jy)\n",
    "size_trecs = cat_trecs['Size']"
   ]
  },
  {
   "cell_type": "markdown",
   "id": "5ea93f19",
   "metadata": {},
   "source": [
    "Convert T-RECS size from an Exponential profile scale radius to a Gaussian FWHM, for comparison to SKADS. [See Bonaldi et al 2019](https://arxiv.org/abs/1805.05222) eq. 14."
   ]
  },
  {
   "cell_type": "code",
   "execution_count": 4,
   "id": "aa7ad233",
   "metadata": {},
   "outputs": [],
   "source": [
    "size_trecs = size_trecs / 0.7"
   ]
  },
  {
   "cell_type": "markdown",
   "id": "2067f95c",
   "metadata": {},
   "source": [
    "## Read in SKADS catalogue"
   ]
  },
  {
   "cell_type": "code",
   "execution_count": 5,
   "id": "e42a836b",
   "metadata": {},
   "outputs": [],
   "source": [
    "z_skads, flux_skads, size_skads = np.loadtxt('../data/skads_redshift_flux_dim.txt', unpack=True)\n",
    "flux_skads = 10.**flux_skads * units.Jy\n",
    "size_skads = size_skads * units.arcsec"
   ]
  },
  {
   "cell_type": "markdown",
   "id": "f9ae61f0",
   "metadata": {},
   "source": [
    "Rescale SKADS size to better match more recent data, as argued for in [Bonaldi & Harrison et al (2016)](https://arxiv.org/abs/1601.03948) Figure 2."
   ]
  },
  {
   "cell_type": "code",
   "execution_count": 6,
   "id": "1d4f630a",
   "metadata": {},
   "outputs": [],
   "source": [
    "size_skads = size_skads / 2.5"
   ]
  },
  {
   "cell_type": "markdown",
   "id": "a838cf87",
   "metadata": {},
   "source": [
    "## Compare size distributions"
   ]
  },
  {
   "cell_type": "markdown",
   "id": "2bfa868b",
   "metadata": {},
   "source": [
    "For the Biggs & Ivison ($> 22 \\, \\mu$Jy) flux cut as in Bonaldi & Harrison et al (2016) Figure 2 panel 4."
   ]
  },
  {
   "cell_type": "code",
   "execution_count": 7,
   "id": "4027d4dd",
   "metadata": {},
   "outputs": [],
   "source": [
    "size_trecs_22 = size_trecs[flux_trecs > 22.e-6 * units.Jy]\n",
    "size_skads_22 = size_skads[flux_skads > 22.e-6 * units.Jy]"
   ]
  },
  {
   "cell_type": "code",
   "execution_count": 8,
   "id": "01e01bba",
   "metadata": {},
   "outputs": [
    {
     "data": {
      "image/png": "[encoded data removed]",
      "text/plain": [
       "<Figure size 324x270 with 1 Axes>"
      ]
     },
     "metadata": {
      "needs_background": "light"
     },
     "output_type": "display_data"
    }
   ],
   "source": [
    "\n",
    "plt.figure(1, figsize=(4.5, 3.75))\n",
    "plt.hist(size_skads_22.value * 2.5, histtype='step', bins=np.linspace(0,10,100), density=True, label=r'SKADS raw $>22$uJy')\n",
    "plt.hist(size_skads_22.value, histtype='step', bins=np.linspace(0,10,100), density=True, label=r'SKADS rescaled $>22$uJy')\n",
    "plt.hist(size_trecs_22, histtype='step', bins=np.linspace(0, 10, 100), density=True, label=r'T-RECS $>22$uJy')\n",
    "plt.xlabel('Size [arcsec]')\n",
    "plt.legend()\n",
    "plt.s;"
   ]
  },
  {
   "cell_type": "markdown",
   "id": "7b53d0ef",
   "metadata": {},
   "source": [
    "## Create SKA1 (SKAO Phase 1) and SKA2 (Full SKAO) cuts"
   ]
  },
  {
   "cell_type": "markdown",
   "id": "c4c0f054",
   "metadata": {},
   "source": [
    "For Bonaldi & Harrison et al (2016) we used sensitivity curves of SKA1-MID to simulate different possible observations. The table below shows the selection of sensitivities we ran simulations of (note this table is not public in the paper).\n",
    "\n",
    "| PSF [arcsec] | $\\nu$ [GHz]  | $S_{\\rm rms}$ [muJy] |\n",
    "| ------------ | --------  | ------------ |\n",
    "| 1.166e+00    | 7.500e-01 | 3.009e+00   |\n",
    "| 1.166e+00    | 7.500e-01 | 3.009e+00   |\n",
    "| 2.718e+00    | 7.500e-01 | 3.071e+00   |\n",
    "| 8.056e-01    | 8.874e-01 | 3.778e+00   |\n",
    "| 1.000e+00    | 8.874e-01 | 3.246e+00   |\n",
    "| 2.718e+00    | 8.874e-01 | 3.293e+00   |\n",
    "| 5.564e-01    | 1.050e+00 | 2.928e+00   |\n",
    "| 1.000e+00    | 1.050e+00 | 1.980e+00   |\n",
    "| 2.718e+00    | 1.050e+00 | 2.022e+00   |\n",
    "| 6.934e-01    | 9.500e-01 | 2.580e+00   |\n",
    "| 1.000e+00    | 9.500e-01 | 2.007e+00   |\n",
    "| 2.718e+00    | 9.500e-01 | 2.062e+00   |\n",
    "| 4.196e-01    | 1.194e+00 | 3.535e+00   |\n",
    "| 1.000e+00    | 1.194e+00 | 2.084e+00   |\n",
    "| 2.718e+00    | 1.194e+00 | 2.060e+00   |\n",
    "| 3.679e-01    | 1.500e+00 | 3.518e+00   |\n",
    "| 1.000e+00    | 1.500e+00 | 2.347e+00   |\n",
    "| 2.718e+00    | 1.500e+00 | 2.156e+00   |\n",
    "\n",
    "Here we take the row with:<br>\n",
    "PSF: 0.556 arcsec<br>\n",
    "$\\nu$: 1050 GHz<br>\n",
    "$S_{\\rm rms}$: 2.93 muJy\n",
    "\n",
    "as our SKA1 configuration, and divide the sensitivity by 10 to approximate SKA2.\n",
    "\n",
    "We also assume galaxy number densities of $n_{\\rm gal} = 2.7 \\,$arcmin$^{-2}$ for SKA1 and 10 for SKA2."
   ]
  },
  {
   "cell_type": "code",
   "execution_count": 9,
   "id": "afc538ed",
   "metadata": {},
   "outputs": [],
   "source": [
    "psf_ska1 = 0.556 * units.arcsec\n",
    "psf_ska2 = 0.556 * units.arcsec\n",
    "srms_ska1 = 2.93e-6 * units.Jy\n",
    "srms_ska2 = 2.93e-7 * units.Jy\n",
    "\n",
    "skads_cut_ska1 = (flux_skads > srms_ska1) * (size_skads > psf_ska1)\n",
    "skads_cut_ska2 = (flux_skads > srms_ska2) * (size_skads > psf_ska2)\n",
    "\n",
    "trecs_cut_ska1 = (flux_trecs > srms_ska1) * (size_trecs > psf_ska1)\n",
    "trecs_cut_ska2 = (flux_trecs > srms_ska2) * (size_trecs > psf_ska2)"
   ]
  },
  {
   "cell_type": "code",
   "execution_count": 10,
   "id": "0f0c5c3a",
   "metadata": {},
   "outputs": [
    {
     "data": {
      "image/png": "[encoded data removed]",
      "text/plain": [
       "<Figure size 648x270 with 2 Axes>"
      ]
     },
     "metadata": {
      "needs_background": "light"
     },
     "output_type": "display_data"
    }
   ],
   "source": [
    "plt.figure(2, figsize=(2 * 4.5, 3.75))\n",
    "plt.subplot(121)\n",
    "counts, bins = np.histogram(z_trecs[trecs_cut_ska1], bins=np.linspace(0, 7, 50), density=True)\n",
    "plt.hist(bins[:-1], bins, weights=counts*2.7, histtype='step', label='TRECS SKA1', color='C0', linestyle='solid')\n",
    "counts, bins = np.histogram(z_trecs[trecs_cut_ska2], bins=np.linspace(0, 7, 50), density=True)\n",
    "plt.hist(bins[:-1], bins, weights=counts*10, histtype='step', label='TRECS SKA2', color='C1', linestyle='solid')\n",
    "\n",
    "counts, bins = np.histogram(z_skads[skads_cut_ska1], bins=np.linspace(0, 7, 50), density=True)\n",
    "plt.hist(bins[:-1], bins, weights=counts*2.7, histtype='step', label='SKADS SKA1', color='C0', linestyle='dashed')\n",
    "counts, bins = np.histogram(z_skads[skads_cut_ska2], bins=np.linspace(0, 7, 50), density=True)\n",
    "plt.hist(bins[:-1], bins, weights=counts*10, histtype='step', label='SKADS SKA2', color='C1', linestyle='dashed')\n",
    "\n",
    "plt.legend()\n",
    "plt.xlim([0,7])\n",
    "plt.xlabel('$z$')\n",
    "plt.subplot(122)\n",
    "counts, bins = np.histogram(z_trecs[trecs_cut_ska1], bins=np.linspace(0, 7, 50), density=True)\n",
    "plt.hist(bins[:-1], bins, weights=counts*2.7, histtype='step', label='TRECS SKA1', color='C0', linestyle='solid')\n",
    "counts, bins = np.histogram(z_trecs[trecs_cut_ska2], bins=np.linspace(0, 7, 50), density=True)\n",
    "plt.hist(bins[:-1], bins, weights=counts*10, histtype='step', label='TRECS SKA2', color='C1', linestyle='solid')\n",
    "\n",
    "counts, bins = np.histogram(z_skads[skads_cut_ska1], bins=np.linspace(0, 7, 50), density=True)\n",
    "plt.hist(bins[:-1], bins, weights=counts*2.7, histtype='step', label='SKADS SKA1', color='C0', linestyle='dashed')\n",
    "counts, bins = np.histogram(z_skads[skads_cut_ska2], bins=np.linspace(0, 7, 50), density=True)\n",
    "plt.hist(bins[:-1], bins, weights=counts*10, histtype='step', label='SKADS SKA2', color='C1', linestyle='dashed')\n",
    "\n",
    "plt.legend()\n",
    "plt.xlim([0,7])\n",
    "plt.yscale('log')\n",
    "plt.ylim([1.e-1, 1.e2])\n",
    "plt.xlabel('$z$')\n",
    "plt.savefig('../plots/trecs-skads-redshift.png', bbox_inches='tight', dpi=300);"
   ]
  },
  {
   "cell_type": "code",
   "execution_count": null,
   "id": "663e3031",
   "metadata": {},
   "outputs": [],
   "source": []
  }
 ],
 "metadata": {
  "kernelspec": {
   "display_name": "Python 3",
   "language": "python",
   "name": "python3"
  },
  "language_info": {
   "codemirror_mode": {
    "name": "ipython",
    "version": 3
   },
   "file_extension": ".py",
   "mimetype": "text/x-python",
   "name": "python",
   "nbconvert_exporter": "python",
   "pygments_lexer": "ipython3",
   "version": "3.8.8"
  }
 },
 "nbformat": 4,
 "nbformat_minor": 5
}
